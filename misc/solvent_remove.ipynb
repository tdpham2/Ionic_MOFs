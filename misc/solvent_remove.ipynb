{
 "cells": [
  {
   "cell_type": "code",
   "execution_count": 1,
   "id": "c421fd78",
   "metadata": {},
   "outputs": [],
   "source": [
    "from MOFChemicalFormula import MOFChemicalFormula\n",
    "import json\n",
    "\n",
    "f = open('data/Anionic_MOFs_formula.json', 'r')\n",
    "data = json.load(f)\n",
    "f.close()"
   ]
  },
  {
   "cell_type": "code",
   "execution_count": 3,
   "id": "ac8f69e5",
   "metadata": {},
   "outputs": [],
   "source": [
    "# Set time limit for CIFs read using ASE. Avoid super large CIF\n",
    "\n",
    "import signal\n",
    "import time\n",
    "\n",
    "class Timeout(Exception):\n",
    "    pass\n",
    "\n",
    "def handler(sig, frame):\n",
    "    raise Timeout"
   ]
  },
  {
   "cell_type": "code",
   "execution_count": 2,
   "id": "507963e0",
   "metadata": {},
   "outputs": [],
   "source": [
    "mofchemform = MOFChemicalFormula(skin=0.3, have_metal=True, have_carbon=True, mass_ratio=0.8)\n"
   ]
  },
  {
   "cell_type": "code",
   "execution_count": 6,
   "id": "2790edb8",
   "metadata": {},
   "outputs": [
    {
     "name": "stdout",
     "output_type": "stream",
     "text": [
      "ABAYIO\n",
      "Atoms(symbols='C384H96Cl48Mn48N96O256', pbc=True, cell=[26.771, 26.771, 26.771], spacegroup_kinds=...)\n",
      "{'C': 18, 'H': 6, 'Cl': 3, 'Mn': 3, 'O': 12} {'C': 288, 'Cl': 48, 'H': 96, 'Mn': 48, 'O': 192}\n"
     ]
    },
    {
     "ename": "TypeError",
     "evalue": "cannot unpack non-iterable NoneType object",
     "output_type": "error",
     "traceback": [
      "\u001b[0;31m---------------------------------------------------------------------------\u001b[0m",
      "\u001b[0;31mTypeError\u001b[0m                                 Traceback (most recent call last)",
      "\u001b[0;32m<ipython-input-6-16169fbaeef0>\u001b[0m in \u001b[0;36m<module>\u001b[0;34m\u001b[0m\n\u001b[1;32m      9\u001b[0m         \u001b[0;32mtry\u001b[0m\u001b[0;34m:\u001b[0m\u001b[0;34m\u001b[0m\u001b[0;34m\u001b[0m\u001b[0m\n\u001b[1;32m     10\u001b[0m             \u001b[0mformula\u001b[0m \u001b[0;34m=\u001b[0m \u001b[0mdata\u001b[0m\u001b[0;34m[\u001b[0m\u001b[0mmof\u001b[0m\u001b[0;34m]\u001b[0m\u001b[0;34m[\u001b[0m\u001b[0;34m'framework'\u001b[0m\u001b[0;34m]\u001b[0m\u001b[0;34m[\u001b[0m\u001b[0;36m0\u001b[0m\u001b[0;34m]\u001b[0m\u001b[0;34m[\u001b[0m\u001b[0;34m'formula'\u001b[0m\u001b[0;34m]\u001b[0m\u001b[0;34m\u001b[0m\u001b[0;34m\u001b[0m\u001b[0m\n\u001b[0;32m---> 11\u001b[0;31m             \u001b[0mfinal_check\u001b[0m\u001b[0;34m,\u001b[0m \u001b[0mfinal_multiplier\u001b[0m \u001b[0;34m=\u001b[0m \u001b[0mmofchemform\u001b[0m\u001b[0;34m.\u001b[0m\u001b[0mremove_solvent\u001b[0m\u001b[0;34m(\u001b[0m\u001b[0mcifpath\u001b[0m \u001b[0;34m+\u001b[0m \u001b[0;34m'/'\u001b[0m \u001b[0;34m+\u001b[0m \u001b[0mmof\u001b[0m \u001b[0;34m+\u001b[0m \u001b[0;34m'.Non-disordered_MOF_subset.cif'\u001b[0m\u001b[0;34m,\u001b[0m \u001b[0moutput_dir\u001b[0m\u001b[0;34m,\u001b[0m \u001b[0mformula\u001b[0m\u001b[0;34m=\u001b[0m\u001b[0mformula\u001b[0m\u001b[0;34m,\u001b[0m \u001b[0mby\u001b[0m\u001b[0;34m=\u001b[0m\u001b[0;34m'formula'\u001b[0m\u001b[0;34m)\u001b[0m\u001b[0;34m\u001b[0m\u001b[0;34m\u001b[0m\u001b[0m\n\u001b[0m\u001b[1;32m     12\u001b[0m             \u001b[0;32mif\u001b[0m \u001b[0mfinal_check\u001b[0m \u001b[0;34m==\u001b[0m \u001b[0;32mTrue\u001b[0m\u001b[0;34m:\u001b[0m\u001b[0;34m\u001b[0m\u001b[0;34m\u001b[0m\u001b[0m\n\u001b[1;32m     13\u001b[0m                 \u001b[0mf\u001b[0m\u001b[0;34m.\u001b[0m\u001b[0mwrite\u001b[0m\u001b[0;34m(\u001b[0m\u001b[0;34m'{},{}\\n'\u001b[0m\u001b[0;34m.\u001b[0m\u001b[0mformat\u001b[0m\u001b[0;34m(\u001b[0m\u001b[0mmof\u001b[0m\u001b[0;34m,\u001b[0m \u001b[0mfinal_multiplier\u001b[0m\u001b[0;34m)\u001b[0m\u001b[0;34m)\u001b[0m\u001b[0;34m\u001b[0m\u001b[0;34m\u001b[0m\u001b[0m\n",
      "\u001b[0;31mTypeError\u001b[0m: cannot unpack non-iterable NoneType object"
     ]
    }
   ],
   "source": [
    "cifpath = 'example_cifs/before_solvent_removal'\n",
    "output_dir = 'example_cifs/after_solvent_removal'\n",
    "\n",
    "with open(\"log.txt\", \"w\") as f:\n",
    "    for mof in data:\n",
    "        signal.signal(signal.SIGALRM, handler)  # register interest in SIGALRM events\n",
    "        signal.alarm(60)  # timeout in 30 seconds\n",
    "        print(mof)\n",
    "        try:\n",
    "            formula = data[mof]['framework'][0]['formula']\n",
    "            final_check, final_multiplier = mofchemform.remove_solvent(cifpath + '/' + mof + '.Non-disordered_MOF_subset.cif', output_dir, formula=formula, by='formula')\n",
    "            if final_check == True:\n",
    "                f.write('{},{}\\n'.format(mof, final_multiplier))\n",
    "            else:\n",
    "                f.write('{},FAIL\\n'.format(mof))\n",
    "        except Timeout:\n",
    "            print('{} took too long'.format(mof))\n",
    "            continue            "
   ]
  },
  {
   "cell_type": "code",
   "execution_count": null,
   "id": "25b41681",
   "metadata": {},
   "outputs": [],
   "source": []
  },
  {
   "cell_type": "code",
   "execution_count": null,
   "id": "9897b137",
   "metadata": {},
   "outputs": [],
   "source": []
  }
 ],
 "metadata": {
  "kernelspec": {
   "display_name": "Python 3",
   "language": "python",
   "name": "python3"
  },
  "language_info": {
   "codemirror_mode": {
    "name": "ipython",
    "version": 3
   },
   "file_extension": ".py",
   "mimetype": "text/x-python",
   "name": "python",
   "nbconvert_exporter": "python",
   "pygments_lexer": "ipython3",
   "version": "3.8.8"
  }
 },
 "nbformat": 4,
 "nbformat_minor": 5
}
