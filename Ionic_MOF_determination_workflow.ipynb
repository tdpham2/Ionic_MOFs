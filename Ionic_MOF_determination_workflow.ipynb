{
 "cells": [
  {
   "cell_type": "code",
   "execution_count": 24,
   "id": "607a3c1e",
   "metadata": {},
   "outputs": [],
   "source": [
    "from MOFChemicalFormula import *\n",
    "import json"
   ]
  },
  {
   "cell_type": "markdown",
   "id": "79069f76",
   "metadata": {},
   "source": [
    "The chemical formulas for MOFs in CSD non-disorder MOF subset are obtained from CSD API and included in \"CSD_nondisorder_formula.csv\" file. There are 3 columns in this file, (1) CSD refcode, (2) entry formula and (3) crystal formula"
   ]
  },
  {
   "cell_type": "code",
   "execution_count": 18,
   "id": "39cf5b0c",
   "metadata": {},
   "outputs": [
    {
     "name": "stdout",
     "output_type": "stream",
     "text": [
      "Refcode          Entry Formula\n",
      "ABAVOP          (C24 H16 Co2 N4 O8)n\n",
      "ABAVOS          (C24 H26 Co1 N3 O11 P3)n,n(H2 O1)\n",
      "ABAVUY          (C30 H20 Cd4 N12 O18)n\n",
      "ABAWOT          (C64 H38 Cu3 N2 O18)n\n",
      "ABAXIN          (C40 H26 N4 O9 S4 Zn2)n,2(C2 H3 N1)\n",
      "ABAXOT          (C40 H26 N6 O9 S3 Zn2)n\n",
      "ABAXUZ          (C50 H32 N6 O8 S4 Zn2)n\n",
      "ABAYEI          (C5 H5 Ag3 N2 O6)n,2n(H2 O1)\n",
      "ABAYIM          (C6 H2 Ag2 N2 O4)n\n",
      "ABAYIO          3(C2 H8 N1 1+),n(C18 H6 Cl3 Mn3 O12 3-),2(H2 O1)\n"
     ]
    }
   ],
   "source": [
    "# Read 'CSD_nondisorder_formula.csv'\n",
    "refcodes = []\n",
    "entry_formulas = []\n",
    "cryst_formulas = []\n",
    "\n",
    "with open('CSD_nondisorder_formula.csv', 'r') as f:\n",
    "    for line in f:\n",
    "        data = line.strip().split('|')\n",
    "        refcodes.append(data[0])\n",
    "        entry_formulas.append(data[1])\n",
    "        cryst_formulas.append(data[2])\n",
    "\n",
    "# Print some examples\n",
    "print(\"Refcode          Entry Formula\")\n",
    "for count in range(10,20):\n",
    "    print(f\"{refcodes[count]}          {entry_formulas[count]}\")"
   ]
  },
  {
   "cell_type": "markdown",
   "id": "8a31fd91",
   "metadata": {},
   "source": [
    "The MOFChemicalFormula library includes a function \"is_ionic\" to check for ionic MOF. The MOF formula is first separated into its components: (1) framework (2) solvent, (3) cation and (4) anions. Below is an example for the use of this function"
   ]
  },
  {
   "cell_type": "code",
   "execution_count": 19,
   "id": "76731b5d",
   "metadata": {},
   "outputs": [
    {
     "name": "stdout",
     "output_type": "stream",
     "text": [
      "Is this MOF ionic? True\n",
      "Details of ABAYIO: {'framework': [{'formula': 'n(C18 H6 Cl3 Mn3 O12 3-)', 'charge': '-', 'net_charge_per_formula': 3.0, 'formula_mass': 685.41}], 'solvent': [{'formula': '2(H2 O1)', 'charge': '', 'net_charge_per_formula': 0, 'formula_mass': 18.02}], 'cation': [{'formula': '3(C2 H8 N1 1+)', 'charge': '+', 'net_charge_per_formula': 1.0, 'formula_mass': 46.11}], 'anion': []}\n"
     ]
    }
   ],
   "source": [
    "# ABAYIO. This is an ionic MOF.\n",
    "\n",
    "ABAYIO = refcodes[19]\n",
    "ABAYIO_form = entry_formulas[19]\n",
    "\n",
    "# Initiate the MOFChemicalFormula class using the formula for ABAYIO\n",
    "mofchemform = MOFChemicalFormula(ABAYIO_form)\n",
    "is_ionic, formula = mofchemform.is_ionic()\n",
    "\n",
    "print(f\"Is this MOF ionic? {is_ionic}\")\n",
    "print(f\"Details of {refcodes[19]}: {formula}\")"
   ]
  },
  {
   "cell_type": "code",
   "execution_count": 20,
   "id": "4cb56343",
   "metadata": {},
   "outputs": [
    {
     "name": "stdout",
     "output_type": "stream",
     "text": [
      "Is this MOF ionic? False\n",
      "Details of ABAVOS: {'framework': [{'formula': '(C24 H26 Co1 N3 O11 P3)n', 'charge': 0, 'net_charge_per_formula': 0, 'formula_mass': 684.37}], 'solvent': [{'formula': 'n(H2 O1)', 'charge': '', 'net_charge_per_formula': 0, 'formula_mass': 18.02}], 'cation': [], 'anion': []}\n"
     ]
    }
   ],
   "source": [
    "# ABAVOS. This is not an ionic MOF.\n",
    "\n",
    "ABAVOS = refcodes[11]\n",
    "ABAVOS_form = entry_formulas[11]\n",
    "\n",
    "# Initiate the MOFChemicalFormula class using the formula for ABAYIO\n",
    "mofchemform = MOFChemicalFormula(ABAVOS_form)\n",
    "is_ionic, formula = mofchemform.is_ionic()\n",
    "\n",
    "print(f\"Is this MOF ionic? {is_ionic}\")\n",
    "print(f\"Details of {refcodes[11]}: {formula}\")"
   ]
  },
  {
   "cell_type": "markdown",
   "id": "c53ad3b4",
   "metadata": {},
   "source": [
    "Repeat this process for every MOF in CSD non-disorder MOF subset. Only keep data of ionic MOFs."
   ]
  },
  {
   "cell_type": "code",
   "execution_count": 21,
   "id": "a288888d",
   "metadata": {},
   "outputs": [],
   "source": [
    "ionic_data = {}\n",
    "ionic_refcodes = []\n",
    "        \n",
    "for ref, form in zip(refcodes, entry_formulas):\n",
    "    mofchemform = MOFChemicalFormula(form)\n",
    "    is_ionic, formula = mofchemform.is_ionic()\n",
    "    if is_ionic:\n",
    "        ionic_refcodes.append(ref)\n",
    "        ionic_data[ref] = formula\n"
   ]
  },
  {
   "cell_type": "markdown",
   "id": "d7b0dad1",
   "metadata": {},
   "source": [
    "We can then split the ionic MOFs into anionic or cationic MOFs based on the charges of the framework."
   ]
  },
  {
   "cell_type": "code",
   "execution_count": 22,
   "id": "ebdb1631",
   "metadata": {},
   "outputs": [],
   "source": [
    "anionic_data = {}\n",
    "cationic_data = {}\n",
    "\n",
    "for ref in ionic_data:\n",
    "    if ionic_data[ref]['framework'][0]['charge'] == '+':\n",
    "        cationic_data[ref] = ionic_data[ref]\n",
    "    elif ionic_data[ref]['framework'][0]['charge'] == '-':\n",
    "        anionic_data[ref] = ionic_data[ref]\n",
    "        "
   ]
  },
  {
   "cell_type": "code",
   "execution_count": 23,
   "id": "3ab7ddd8",
   "metadata": {},
   "outputs": [
    {
     "name": "stdout",
     "output_type": "stream",
     "text": [
      "Number of ionic MOFs: 14956\n",
      "Number of cationic MOFs: 8909\n",
      "Number of anionic MOFs: 6047\n"
     ]
    }
   ],
   "source": [
    "# Get some details about the ionic MOFs\n",
    "print(f\"Number of ionic MOFs: {len(ionic_refcodes)}\")\n",
    "print(f\"Number of cationic MOFs: {len(cationic_data)}\")\n",
    "print(f\"Number of anionic MOFs: {len(anionic_data)}\")\n"
   ]
  },
  {
   "cell_type": "code",
   "execution_count": 27,
   "id": "e47ee9ae",
   "metadata": {},
   "outputs": [],
   "source": [
    "# Write data of ionic, anionic and cation MOFs\n",
    "with open('data/Ionic_MOFs_formula.json', 'w') as f:\n",
    "    json.dump(ionic_data, f, indent=4)\n",
    "with open('data/Cationic_MOFs_formula.json', 'w') as f:\n",
    "    json.dump(cationic_data, f, indent=4)\n",
    "with open('data/Anionic_MOFs_formula.json', 'w') as f:\n",
    "    json.dump(anionic_data, f, indent=4)    "
   ]
  },
  {
   "cell_type": "code",
   "execution_count": null,
   "id": "a928a789",
   "metadata": {},
   "outputs": [],
   "source": []
  }
 ],
 "metadata": {
  "kernelspec": {
   "display_name": "Python 3",
   "language": "python",
   "name": "python3"
  },
  "language_info": {
   "codemirror_mode": {
    "name": "ipython",
    "version": 3
   },
   "file_extension": ".py",
   "mimetype": "text/x-python",
   "name": "python",
   "nbconvert_exporter": "python",
   "pygments_lexer": "ipython3",
   "version": "3.8.8"
  }
 },
 "nbformat": 4,
 "nbformat_minor": 5
}
