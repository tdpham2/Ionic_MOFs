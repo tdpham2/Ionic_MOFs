{
 "cells": [
  {
   "cell_type": "code",
   "execution_count": 20,
   "id": "f81be514",
   "metadata": {},
   "outputs": [],
   "source": [
    "import json\n",
    "import os\n",
    "import glob\n"
   ]
  },
  {
   "cell_type": "code",
   "execution_count": 21,
   "id": "d5ce1d79",
   "metadata": {},
   "outputs": [],
   "source": [
    "\"\"\"Read log.txt file, which stores the quotient \n",
    "between the chemical formula of the unit cell and the chemical formula from CSD\n",
    "\"\"\"\n",
    "ref_codes = []\n",
    "multipliers = []\n",
    "\n",
    "with open('log.txt', 'r') as f:\n",
    "    for line in f:\n",
    "        data = line.strip().split(',')\n",
    "        if data[1] == 'FAIL':\n",
    "            continue\n",
    "        else:\n",
    "            if int(data[1]) > 0:\n",
    "                ref_codes.append(data[0])\n",
    "                multipliers.append(int(data[1]))\n",
    "            else:\n",
    "                print(data[0])\n"
   ]
  },
  {
   "cell_type": "code",
   "execution_count": 22,
   "id": "86695500",
   "metadata": {},
   "outputs": [],
   "source": [
    "with open('data/Anionic_MOFs_formula.json', 'r') as f:\n",
    "    chemical_formulas_data = json.load(f)\n"
   ]
  },
  {
   "cell_type": "code",
   "execution_count": 23,
   "id": "c20cac0c",
   "metadata": {},
   "outputs": [],
   "source": [
    "basepath = 'example_cifs/after_solvent_removal'\n",
    "\n",
    "for idx, ref in enumerate(ref_codes):\n",
    "    net_charge_per_form = chemical_formulas_data[ref]['framework'][0]['net_charge_per_formula']\n",
    "    net_charge_per_cif = net_charge_per_form*multipliers[idx]\n",
    "    cifpath = os.path.join(basepath, ref + '.Non-disordered_MOF_subset_removed_ions.cif')\n",
    "    atoms = ase_read(cifpath)\n",
    "    mass = sum(atoms.get_masses())\n",
    "    volume = atoms.get_volume()\n",
    "    nMg = net_charge_per_cif/2\n",
    "    nH2 = 3*nMg\n",
    "    H2_per_mass = 2* nH2 / mass\n",
    "    H2_per_volume = 2* nH2/volume* 1660\n",
    "\n",
    "    with open('estimated_H2_capacity.csv', 'a') as f:\n",
    "        f.write('{},{},{}\\n'.format(ref, H2_per_mass, H2_per_volume))\n"
   ]
  },
  {
   "cell_type": "code",
   "execution_count": null,
   "id": "ccc1c44a",
   "metadata": {},
   "outputs": [],
   "source": []
  }
 ],
 "metadata": {
  "kernelspec": {
   "display_name": "Python 3",
   "language": "python",
   "name": "python3"
  },
  "language_info": {
   "codemirror_mode": {
    "name": "ipython",
    "version": 3
   },
   "file_extension": ".py",
   "mimetype": "text/x-python",
   "name": "python",
   "nbconvert_exporter": "python",
   "pygments_lexer": "ipython3",
   "version": "3.8.8"
  }
 },
 "nbformat": 4,
 "nbformat_minor": 5
}
